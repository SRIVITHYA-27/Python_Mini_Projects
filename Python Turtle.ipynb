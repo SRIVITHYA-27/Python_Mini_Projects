{
 "cells": [
  {
   "cell_type": "markdown",
   "id": "e0fade4c",
   "metadata": {},
   "source": [
    "# Program 1:"
   ]
  },
  {
   "cell_type": "code",
   "execution_count": 1,
   "id": "d287fcec",
   "metadata": {},
   "outputs": [],
   "source": [
    "import turtle"
   ]
  },
  {
   "cell_type": "code",
   "execution_count": 2,
   "id": "368b1d1f",
   "metadata": {},
   "outputs": [],
   "source": [
    "turtle.bgcolor(\"black\")\n",
    "turtle.shape(\"turtle\")\n",
    "turtle.speed(0)\n",
    "turtle.pensize(2)\n",
    "turtle.color(\"yellow\")"
   ]
  },
  {
   "cell_type": "code",
   "execution_count": 3,
   "id": "0d201c3b",
   "metadata": {},
   "outputs": [],
   "source": [
    "for i in range(36):\n",
    "    for j in range(4):\n",
    "        turtle.forward(200)\n",
    "        turtle.right(90)\n",
    "    turtle.right(10)\n"
   ]
  },
  {
   "cell_type": "code",
   "execution_count": 4,
   "id": "c54212be",
   "metadata": {},
   "outputs": [],
   "source": [
    "turtle.mainloop()"
   ]
  },
  {
   "cell_type": "code",
   "execution_count": null,
   "id": "352baad4",
   "metadata": {},
   "outputs": [],
   "source": []
  },
  {
   "cell_type": "code",
   "execution_count": null,
   "id": "8680e21d",
   "metadata": {},
   "outputs": [],
   "source": []
  }
 ],
 "metadata": {
  "kernelspec": {
   "display_name": "Python 3 (ipykernel)",
   "language": "python",
   "name": "python3"
  },
  "language_info": {
   "codemirror_mode": {
    "name": "ipython",
    "version": 3
   },
   "file_extension": ".py",
   "mimetype": "text/x-python",
   "name": "python",
   "nbconvert_exporter": "python",
   "pygments_lexer": "ipython3",
   "version": "3.9.12"
  }
 },
 "nbformat": 4,
 "nbformat_minor": 5
}
